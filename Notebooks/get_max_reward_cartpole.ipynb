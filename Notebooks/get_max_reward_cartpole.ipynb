{
 "cells": [
  {
   "cell_type": "code",
   "execution_count": 30,
   "metadata": {},
   "outputs": [
    {
     "name": "stdout",
     "output_type": "stream",
     "text": [
      "CartPole_0005_32 1817600.0 192.49\n",
      "CartPole_005_256 1152000.0 200.0\n",
      "CartPole_0001_256 9728000.0 178.89\n",
      "CartPole_0001_32 7158400.0 195.08\n",
      "CartPole_001_256 1382400.0 200.0\n",
      "CartPole_001_32 6659200.0 192.29\n",
      "CartPole_005_32 6060800.0 189.56\n",
      "CartPole_0005_256 8396800.0 199.81\n"
     ]
    }
   ],
   "source": [
    "import os\n",
    "import pandas as pd\n",
    "\n",
    "logs = os.listdir('./logs')\n",
    "\n",
    "for file in logs:\n",
    "    if \"new\" not in file and 'CartPole' in file:\n",
    "        df = pd.read_csv(open(os.path.join('./logs/%s' % file, 'progress.csv'), 'r'))\n",
    "#         print(df.head())\n",
    "        print(file, df.loc[df['eprewmean'].idxmax()]['total_timesteps'], df.loc[df['eprewmean'].idxmax()]['eprewmean']) #['nupdates']"
   ]
  }
 ],
 "metadata": {
  "kernelspec": {
   "display_name": "Python 3",
   "language": "python",
   "name": "python3"
  },
  "language_info": {
   "codemirror_mode": {
    "name": "ipython",
    "version": 3
   },
   "file_extension": ".py",
   "mimetype": "text/x-python",
   "name": "python",
   "nbconvert_exporter": "python",
   "pygments_lexer": "ipython3",
   "version": "3.6.10"
  }
 },
 "nbformat": 4,
 "nbformat_minor": 4
}
