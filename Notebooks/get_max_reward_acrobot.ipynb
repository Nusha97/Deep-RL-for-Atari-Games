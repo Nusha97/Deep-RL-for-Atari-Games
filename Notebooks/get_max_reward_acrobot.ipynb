{
 "cells": [
  {
   "cell_type": "code",
   "execution_count": 12,
   "metadata": {},
   "outputs": [
    {
     "name": "stdout",
     "output_type": "stream",
     "text": [
      "Acrobot_005_32 9836800.0 -77.39\n",
      "Acrobot_0001_32 3200.0 -475.83333333333326\n",
      "Acrobot_001_32 8480000.0 -493.43\n",
      "Acrobot_001_256 332800.0 -490.91\n",
      "Acrobot_0001_256 8140800.0 -492.6\n",
      "Acrobot_0005_256 7296000.0 -82.69\n",
      "Acrobot_0005_32 6553600.0 -494.33\n",
      "Acrobot_005_256 204800.0 -496.63\n"
     ]
    }
   ],
   "source": [
    "import os\n",
    "import pandas as pd\n",
    "\n",
    "logs = os.listdir('./logs')\n",
    "\n",
    "for file in logs:\n",
    "    if \"new\" not in file and 'Acrobot' in file:\n",
    "        df = pd.read_csv(open(os.path.join('./logs/%s' % file, 'progress.csv'), 'r'))\n",
    "#         print(df.head())\n",
    "        print(file, df.loc[df['eprewmean'].idxmax()]['total_timesteps'], df.loc[df['eprewmean'].idxmax()]['eprewmean']) #['nupdates']"
   ]
  }
 ],
 "metadata": {
  "kernelspec": {
   "display_name": "Python 3",
   "language": "python",
   "name": "python3"
  },
  "language_info": {
   "codemirror_mode": {
    "name": "ipython",
    "version": 3
   },
   "file_extension": ".py",
   "mimetype": "text/x-python",
   "name": "python",
   "nbconvert_exporter": "python",
   "pygments_lexer": "ipython3",
   "version": "3.6.10"
  }
 },
 "nbformat": 4,
 "nbformat_minor": 4
}
